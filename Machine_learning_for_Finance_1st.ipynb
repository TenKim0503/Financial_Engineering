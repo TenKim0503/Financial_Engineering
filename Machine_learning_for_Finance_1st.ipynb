{
  "nbformat": 4,
  "nbformat_minor": 0,
  "metadata": {
    "colab": {
      "name": "Machine_learning for Finance 1st.ipynb",
      "provenance": [],
      "collapsed_sections": [],
      "authorship_tag": "ABX9TyOsh9dhJZS9J+/rikuZQ4Nu",
      "include_colab_link": true
    },
    "kernelspec": {
      "name": "python3",
      "display_name": "Python 3"
    },
    "language_info": {
      "name": "python"
    }
  },
  "cells": [
    {
      "cell_type": "markdown",
      "metadata": {
        "id": "view-in-github",
        "colab_type": "text"
      },
      "source": [
        "<a href=\"https://colab.research.google.com/github/TenKim0503/Financial_Engineering/blob/main/Machine_learning_for_Finance_1st.ipynb\" target=\"_parent\"><img src=\"https://colab.research.google.com/assets/colab-badge.svg\" alt=\"Open In Colab\"/></a>"
      ]
    },
    {
      "cell_type": "code",
      "metadata": {
        "id": "JActF2_7UT4o"
      },
      "source": [
        "import numpy as np # import numpy"
      ],
      "execution_count": null,
      "outputs": []
    },
    {
      "cell_type": "code",
      "metadata": {
        "id": "aO1pF2OCUqcY"
      },
      "source": [
        "from scipy.stats import norm # Normal Distribution from  scipy.stats"
      ],
      "execution_count": null,
      "outputs": []
    },
    {
      "cell_type": "code",
      "metadata": {
        "colab": {
          "base_uri": "https://localhost:8080/"
        },
        "id": "aRpqL7PZUvex",
        "outputId": "2a3bdcb0-fa8e-41c1-e0ca-c00ff16babc6"
      },
      "source": [
        "norm.cdf(0) # CDF of normal distribution->P(X<=0)"
      ],
      "execution_count": null,
      "outputs": [
        {
          "output_type": "execute_result",
          "data": {
            "text/plain": [
              "0.5"
            ]
          },
          "metadata": {},
          "execution_count": 4
        }
      ]
    },
    {
      "cell_type": "code",
      "metadata": {
        "colab": {
          "base_uri": "https://localhost:8080/"
        },
        "id": "E4crVSI3Vb1a",
        "outputId": "62424139-9913-4d74-b007-3c62300199f3"
      },
      "source": [
        "norm.cdf(3) # CDF of normal distribution->P(X<=3)"
      ],
      "execution_count": null,
      "outputs": [
        {
          "output_type": "execute_result",
          "data": {
            "text/plain": [
              "0.9986501019683699"
            ]
          },
          "metadata": {},
          "execution_count": 5
        }
      ]
    },
    {
      "cell_type": "code",
      "metadata": {
        "id": "yMIwTJ0UVlUU"
      },
      "source": [
        "s0 = 100 #기초가격\n",
        "K = 100 #행사가격\n",
        "T = 30/365 #(30 days left)\n",
        "r = 0 #(risk interest rate)\n",
        "sig = 0.2 #Volatility"
      ],
      "execution_count": null,
      "outputs": []
    },
    {
      "cell_type": "code",
      "metadata": {
        "id": "wAgr3EknWr8t"
      },
      "source": [
        "d1 = (np.log(s0/K)+ (r+0.5*sig**2)*T)/(sig*np.sqrt(T))"
      ],
      "execution_count": null,
      "outputs": []
    },
    {
      "cell_type": "code",
      "metadata": {
        "id": "VUNRk63EX3wQ"
      },
      "source": [
        "d2 = (np.log(s0/K)+ (r-0.5*sig**2)*T)/(sig*np.sqrt(T))"
      ],
      "execution_count": null,
      "outputs": []
    },
    {
      "cell_type": "code",
      "metadata": {
        "colab": {
          "base_uri": "https://localhost:8080/"
        },
        "id": "J6PB_2eHX_5V",
        "outputId": "4176b662-4ee8-4156-955c-cdc8cff83169"
      },
      "source": [
        "d1"
      ],
      "execution_count": null,
      "outputs": [
        {
          "output_type": "execute_result",
          "data": {
            "text/plain": [
              "0.028669108954049796"
            ]
          },
          "metadata": {},
          "execution_count": 12
        }
      ]
    },
    {
      "cell_type": "code",
      "metadata": {
        "colab": {
          "base_uri": "https://localhost:8080/"
        },
        "id": "ozAuq158YNa6",
        "outputId": "a7fc1a76-5abc-4e98-8d54-656c4b1a5058"
      },
      "source": [
        "d2"
      ],
      "execution_count": null,
      "outputs": [
        {
          "output_type": "execute_result",
          "data": {
            "text/plain": [
              "-0.028669108954049796"
            ]
          },
          "metadata": {},
          "execution_count": 13
        }
      ]
    },
    {
      "cell_type": "code",
      "metadata": {
        "colab": {
          "base_uri": "https://localhost:8080/"
        },
        "id": "dtOZS19Kkw_V",
        "outputId": "1165cb91-c966-4afc-b1fb-7d53c7cfa1d6"
      },
      "source": [
        "s0 *  norm.cdf(d1)-K*np.exp(-r*T) * norm.cdf(d2) #Price of Call Option , Black-Sholes formula"
      ],
      "execution_count": null,
      "outputs": [
        {
          "output_type": "execute_result",
          "data": {
            "text/plain": [
              "2.2871506280449694"
            ]
          },
          "metadata": {},
          "execution_count": 14
        }
      ]
    },
    {
      "cell_type": "code",
      "metadata": {
        "id": "nKsXPoA_lh7d"
      },
      "source": [
        "## How to explain the dynamics of stock's price"
      ],
      "execution_count": null,
      "outputs": []
    },
    {
      "cell_type": "code",
      "metadata": {
        "colab": {
          "base_uri": "https://localhost:8080/"
        },
        "id": "TcodAwzhk4-C",
        "outputId": "13b38d9d-7f6c-42ea-937d-1a4154b9b6f8"
      },
      "source": [
        "np.random.normal(size=(10,30)) #10=10개의 주가 시나리오, 30=하나의 시나리오 안에서 30일동안의 주가 움직임"
      ],
      "execution_count": null,
      "outputs": [
        {
          "output_type": "execute_result",
          "data": {
            "text/plain": [
              "array([[-1.92842514, -0.57199464, -1.36643145,  0.19322   ,  0.45241362,\n",
              "         0.02827128, -0.84036833,  0.09644853,  1.31435898, -1.78852392,\n",
              "        -0.17235105, -0.82536139, -0.86637908, -0.29399433,  0.78937714,\n",
              "        -1.25435132, -1.02108595, -0.38309794,  2.0505626 ,  0.39188268,\n",
              "         1.6324823 , -0.05330127,  0.22252309, -0.55926495, -0.51225151,\n",
              "        -0.44037201,  0.89553959, -1.29504463,  0.81056707,  0.20598682],\n",
              "       [ 1.09983392,  0.85433438,  1.93633174,  1.29372675,  1.14954331,\n",
              "        -0.26687878,  0.82452347,  2.44381723,  0.15903313, -0.13456569,\n",
              "        -1.99769469, -1.04393161,  1.10116422, -0.09217642,  0.71380584,\n",
              "        -0.98823617,  0.57879762,  1.34205493,  0.25321648, -0.52796101,\n",
              "         1.63327701, -1.60974207,  0.8788798 ,  0.14789577,  0.74713139,\n",
              "        -1.8194687 , -0.38231344, -0.54839299,  0.83799817, -0.24784367],\n",
              "       [ 0.17084708,  0.20167   , -0.33712323, -0.34774718,  0.45914695,\n",
              "        -0.27876606, -0.14630235,  0.76813382,  0.02959315, -1.58117179,\n",
              "        -1.30429796,  0.18518858, -0.16873993, -0.48061492,  0.32710744,\n",
              "        -1.36890058,  0.03083369, -0.20871602,  0.22363309, -1.14403796,\n",
              "         1.71072832,  1.28450253, -1.74757155,  1.48889403, -0.77928201,\n",
              "        -0.19616606,  0.31379685,  1.54264798, -0.18086927, -1.34972022],\n",
              "       [ 2.66224639,  0.79184367,  0.91431253,  0.29894901,  1.75538256,\n",
              "         0.07474802,  2.44031015,  0.31801199,  0.74426482,  2.15760792,\n",
              "         2.38553835,  0.31589137,  0.01563238, -0.58716007,  0.33191802,\n",
              "        -0.29501627, -1.08445713, -0.06691618, -0.84798771, -1.22822011,\n",
              "         1.49432419, -0.03244116,  2.2604973 ,  0.28955109,  1.95994357,\n",
              "         0.64542891, -0.94021109, -0.50169355,  0.57036687,  0.74374918],\n",
              "       [-1.29583632, -0.09069081, -0.59655068, -0.71467523,  2.54514042,\n",
              "        -1.94540926, -2.01277746, -0.15166626,  0.51161733,  0.60335795,\n",
              "        -0.03160265, -0.42287372, -0.81485337,  0.81416699, -1.49534231,\n",
              "         1.06708454,  1.20823679,  0.32650971, -0.3073094 ,  0.41532799,\n",
              "         1.41344959, -1.41458665,  0.39216178, -1.03892525, -0.4023065 ,\n",
              "        -0.04156277,  0.04370501, -0.38401215,  0.17699993,  0.35112672],\n",
              "       [-0.04814389, -0.64596158,  1.78499796, -0.80713797, -0.23884084,\n",
              "         0.25815495, -1.63279997,  0.09645542,  0.07140117,  1.10357098,\n",
              "        -0.12429559, -0.19947169,  0.01651237,  0.29692246, -0.77649324,\n",
              "        -0.49358788,  0.65263595, -1.62117477,  0.07932189, -1.07507853,\n",
              "         1.54853218, -0.77424569, -0.28404608, -1.17029739, -0.33781652,\n",
              "        -0.15775359,  0.65627717, -1.19243418,  0.6872805 ,  1.36213454],\n",
              "       [-0.20177437, -0.83703223, -1.1276493 ,  0.02101899, -1.51775594,\n",
              "         0.47279966, -0.60188669,  1.37450592, -0.79446109, -1.76154966,\n",
              "        -1.16031063,  0.25559576, -1.41784586, -2.28722283, -0.14964495,\n",
              "        -0.21117495,  0.65716   , -0.55485662,  0.72490751,  1.03891391,\n",
              "         0.30675276, -1.20075675,  1.47525622, -1.02091618,  1.55499926,\n",
              "         0.02224778, -1.15231312,  0.56137053, -0.10965674,  1.11089727],\n",
              "       [ 1.20740454, -0.80229583, -3.13807502,  1.04002159, -0.98102522,\n",
              "         0.37770891, -0.91411295,  0.09835281,  0.6154054 , -0.80019302,\n",
              "        -0.48861988, -1.22032636,  0.760173  ,  0.43383125,  0.48252057,\n",
              "        -0.41421792,  0.71031459, -0.51433777,  0.56491128, -0.65677895,\n",
              "         2.11608166, -0.16993871,  0.65227105, -0.79586038,  1.37777911,\n",
              "         0.17812774,  0.35823859,  0.34873382, -0.12625911, -1.75851638],\n",
              "       [ 0.45722633,  0.43763358,  0.461671  ,  0.71741238, -1.40846412,\n",
              "         0.409556  ,  0.84206881,  0.41740385,  1.13230262,  1.13345624,\n",
              "         0.90215654,  0.27888799, -0.04186708,  0.94028581,  0.83062652,\n",
              "        -0.24883386, -0.64699143,  0.42799021,  0.27375439, -0.20113189,\n",
              "        -0.22084332,  0.63558025, -0.55440572,  0.21276675,  1.7008455 ,\n",
              "        -0.17226792,  0.19227735, -2.18275521, -0.17694583,  0.78309064],\n",
              "       [-0.37485428, -1.10587315,  2.02026803, -0.42947919,  0.48347323,\n",
              "        -1.35196744,  0.10489654, -1.37359718, -0.76816941,  0.30555022,\n",
              "        -1.22379453,  0.04739555,  0.09714209, -1.28223821, -1.09891774,\n",
              "        -0.48032179,  0.09884057,  0.4843529 ,  0.2175036 , -2.40545752,\n",
              "        -0.73346435,  1.03029096,  0.48752368, -1.5414208 ,  0.46316254,\n",
              "         0.52835484,  0.09626376,  0.22494356, -0.58558439,  0.92973954]])"
            ]
          },
          "metadata": {},
          "execution_count": 17
        }
      ]
    },
    {
      "cell_type": "code",
      "metadata": {
        "colab": {
          "base_uri": "https://localhost:8080/"
        },
        "id": "3zd8oH-KnZuf",
        "outputId": "5b9c8925-9f3a-4676-b2aa-73eea64b2555"
      },
      "source": [
        "M=2\n",
        "N=30\n",
        "S=np.random.normal(size=(M,N))  #Random number generator\n",
        "#M=M개의 주가 시나리오, 30=하나의 시나리오 안에서 30일동안의 주가 움직임\n",
        "#여기서 30은 Normal(0,1)의 random numbers의 개수\n",
        "S.shape"
      ],
      "execution_count": null,
      "outputs": [
        {
          "output_type": "execute_result",
          "data": {
            "text/plain": [
              "(2, 30)"
            ]
          },
          "metadata": {},
          "execution_count": 53
        }
      ]
    },
    {
      "cell_type": "code",
      "metadata": {
        "id": "fs834F3hrl9k"
      },
      "source": [
        "for j in range(N):\n",
        "  if j == 0:\n",
        "    S[0,j] = s0 *(1+ sig* np.sqrt(T/N)*S[0,j])\n",
        "  else:\n",
        "    S[0,j] = S[0,j-1] * (1+ sig* np.sqrt(T/N)*S[0,j])"
      ],
      "execution_count": null,
      "outputs": []
    },
    {
      "cell_type": "code",
      "metadata": {
        "id": "84PFPyw5sye8"
      },
      "source": [
        "S[0,:]"
      ],
      "execution_count": null,
      "outputs": []
    },
    {
      "cell_type": "code",
      "metadata": {
        "id": "C5dtkhfRtXUi"
      },
      "source": [
        "for i in range(M):\n",
        "  for j in range(N):\n",
        "    if j == 0:\n",
        "      S[i,j] = s0 *(1+ r*T/N+ sig * np.sqrt(T/N)*S[i,j])\n",
        "    else:\n",
        "      S[i,j] = S[i,j-1] * (1+ r*T/N +sig* np.sqrt(T/N)*S[i,j])"
      ],
      "execution_count": null,
      "outputs": []
    },
    {
      "cell_type": "code",
      "metadata": {
        "colab": {
          "base_uri": "https://localhost:8080/"
        },
        "id": "ikmThC65uJZ_",
        "outputId": "fe5a027f-a65a-4339-ec39-db2233fffcd5"
      },
      "source": [
        "S"
      ],
      "execution_count": null,
      "outputs": [
        {
          "output_type": "execute_result",
          "data": {
            "text/plain": [
              "array([[100.90641692, 101.28508544, 101.03477215, 100.60044907,\n",
              "         99.77790014, 100.35985654, 101.55100359,  99.81367498,\n",
              "         98.38132907,  99.90767767, 101.62596678, 100.3823303 ,\n",
              "        100.37234786, 100.96780584, 101.48444119, 101.9827184 ,\n",
              "         99.99982264,  99.49172794,  99.13435012,  99.31531449,\n",
              "         98.4378143 , 100.46672804, 100.30789233, 101.04038055,\n",
              "         99.48466103,  97.73625026,  97.65189935,  95.91771198,\n",
              "         96.69681195,  98.47785314],\n",
              "       [ 99.47326446,  99.35201371,  98.15196317,  99.24854922,\n",
              "         99.96614757,  98.6498099 , 101.07548574, 101.20358053,\n",
              "        102.1792062 , 102.65546962, 103.62817832, 104.56491428,\n",
              "        104.84464164, 103.93007878, 104.3727105 , 102.1281268 ,\n",
              "        102.3745624 , 101.64302107, 102.60929003, 103.21577404,\n",
              "        103.79421634, 103.09867893, 103.93223909, 101.55803946,\n",
              "        100.07421018, 102.04973405, 101.41124758, 101.48986998,\n",
              "        100.94292136, 101.05712252]])"
            ]
          },
          "metadata": {},
          "execution_count": 55
        }
      ]
    },
    {
      "cell_type": "code",
      "metadata": {
        "colab": {
          "base_uri": "https://localhost:8080/"
        },
        "id": "567g2aw2uPr8",
        "outputId": "c0da0ede-4989-47c7-8ab0-dbf808edb904"
      },
      "source": [
        "for i in range(M):\n",
        "  for j in range(N):\n",
        "    if j == 0:\n",
        "      print(S[i,j])\n",
        "      S[i,j] = s0 *(1+ r*T/N+ sig * np.sqrt(T/N)*S[i,j])\n",
        "      print(S[i,j])\n",
        "    else:\n",
        "      pass"
      ],
      "execution_count": null,
      "outputs": [
        {
          "output_type": "stream",
          "name": "stdout",
          "text": [
            "-1.216100782237262\n",
            "98.7269275165927\n",
            "-0.059677640384080397\n",
            "99.93752659075848\n"
          ]
        }
      ]
    },
    {
      "cell_type": "code",
      "metadata": {
        "id": "CycWkkiA1aJO"
      },
      "source": [
        "import matplotlib.pyplot as plt"
      ],
      "execution_count": null,
      "outputs": []
    },
    {
      "cell_type": "code",
      "metadata": {
        "colab": {
          "base_uri": "https://localhost:8080/",
          "height": 265
        },
        "id": "kUdxrfQ11e_s",
        "outputId": "4b280f60-2232-4eae-aed7-219801bef42b"
      },
      "source": [
        "for i in range(M):\n",
        "  plt.plot([s0]+ list(S[i,:]))\n",
        "\n",
        "plt.show()"
      ],
      "execution_count": null,
      "outputs": [
        {
          "output_type": "display_data",
          "data": {
            "image/png": "[encoded data removed]",
            "text/plain": [
              "<Figure size 432x288 with 1 Axes>"
            ]
          },
          "metadata": {
            "needs_background": "light"
          }
        }
      ]
    }
  ]
}