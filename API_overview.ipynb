{
  "nbformat": 4,
  "nbformat_minor": 0,
  "metadata": {
    "colab": {
      "name": "API_overview.ipynb",
      "provenance": [],
      "collapsed_sections": [],
      "authorship_tag": "ABX9TyMkbKr+z6FcJleF0GEbC2Tr",
      "include_colab_link": true
    },
    "kernelspec": {
      "name": "python3",
      "display_name": "Python 3"
    },
    "language_info": {
      "name": "python"
    }
  },
  "cells": [
    {
      "cell_type": "markdown",
      "metadata": {
        "id": "view-in-github",
        "colab_type": "text"
      },
      "source": [
        "<a href=\"https://colab.research.google.com/github/TenKim0503/Financial_Engineering/blob/main/API_overview.ipynb\" target=\"_parent\"><img src=\"https://colab.research.google.com/assets/colab-badge.svg\" alt=\"Open In Colab\"/></a>"
      ]
    },
    {
      "cell_type": "markdown",
      "metadata": {
        "id": "_WylrFcTPQ_c"
      },
      "source": [
        "#API overview"
      ]
    },
    {
      "cell_type": "code",
      "metadata": {
        "id": "e5VJ5JN-PPTM"
      },
      "source": [
        "import tensorflow as tf"
      ],
      "execution_count": 1,
      "outputs": []
    },
    {
      "cell_type": "code",
      "metadata": {
        "colab": {
          "base_uri": "https://localhost:8080/"
        },
        "id": "QgHFlCiMPWkg",
        "outputId": "d4ecc452-f661-4298-91cd-54b15631fb03"
      },
      "source": [
        "# 첫번째 Dense에서는 Input shape을 넣는 것이 중요 , 두번째 Dense에서는 나의 output shape이 내가 가지고 있는 y와 모양을 같게 해야함 \n",
        "my_model = tf.keras.Sequential([\n",
        "    tf.keras.layers.Dense(64, input_shape=(784,), activation='relu'),\n",
        "    tf.keras.layers.Dense(10, activation='softmax')\n",
        "])\n",
        "\n",
        "my_model.summary()"
      ],
      "execution_count": 3,
      "outputs": [
        {
          "output_type": "stream",
          "name": "stdout",
          "text": [
            "Model: \"sequential_1\"\n",
            "_________________________________________________________________\n",
            "Layer (type)                 Output Shape              Param #   \n",
            "=================================================================\n",
            "dense_2 (Dense)              (None, 64)                50240     \n",
            "_________________________________________________________________\n",
            "dense_3 (Dense)              (None, 10)                650       \n",
            "=================================================================\n",
            "Total params: 50,890\n",
            "Trainable params: 50,890\n",
            "Non-trainable params: 0\n",
            "_________________________________________________________________\n"
          ]
        }
      ]
    },
    {
      "cell_type": "markdown",
      "metadata": {
        "id": "CCkvHylkTKT2"
      },
      "source": [
        "Save the data set for train and test"
      ]
    },
    {
      "cell_type": "code",
      "metadata": {
        "colab": {
          "base_uri": "https://localhost:8080/"
        },
        "id": "a_L-NKA4TD7b",
        "outputId": "6c3dcddb-f275-4fe8-eee5-83ac90c53c38"
      },
      "source": [
        "(x_train, y_train), (x_test, y_test) = tf.keras.datasets.mnist.load_data()"
      ],
      "execution_count": 4,
      "outputs": [
        {
          "output_type": "stream",
          "name": "stdout",
          "text": [
            "Downloading data from https://storage.googleapis.com/tensorflow/tf-keras-datasets/mnist.npz\n",
            "11493376/11490434 [==============================] - 0s 0us/step\n",
            "11501568/11490434 [==============================] - 0s 0us/step\n"
          ]
        }
      ]
    },
    {
      "cell_type": "code",
      "metadata": {
        "id": "UQKBLm7cTSuN"
      },
      "source": [
        "# Preprocess the data (these are NumPy arrays)\n",
        "x_train = x_train.reshape(60000, 784).astype(\"float32\") / 255\n",
        "x_test = x_test.reshape(10000, 784).astype(\"float32\") / 255\n",
        "\n",
        "y_train = y_train.astype(\"float32\")\n",
        "y_test = y_test.astype(\"float32\")\n",
        "\n",
        "# Reserve 10,000 samples for validation\n",
        "x_val = x_train[-10000:]\n",
        "y_val = y_train[-10000:]\n",
        "x_train = x_train[:-10000]\n",
        "y_train = y_train[:-10000]"
      ],
      "execution_count": 5,
      "outputs": []
    },
    {
      "cell_type": "code",
      "metadata": {
        "id": "iFESFeVqWkQl"
      },
      "source": [
        "#Compile : define 'loss'\n",
        "my_model.compile(loss=tf.keras.losses.SparseCategoricalCrossentropy())"
      ],
      "execution_count": 6,
      "outputs": []
    },
    {
      "cell_type": "code",
      "metadata": {
        "colab": {
          "base_uri": "https://localhost:8080/"
        },
        "id": "1sw7f2VKWwnI",
        "outputId": "028d4ef8-c7e5-4e37-ef64-415e63069461"
      },
      "source": [
        "history = my_model.fit(x=x_train, y=y_train, epochs=2)"
      ],
      "execution_count": 7,
      "outputs": [
        {
          "output_type": "stream",
          "name": "stdout",
          "text": [
            "Epoch 1/2\n",
            "1563/1563 [==============================] - 3s 2ms/step - loss: 0.3199\n",
            "Epoch 2/2\n",
            "1563/1563 [==============================] - 2s 2ms/step - loss: 0.1667\n"
          ]
        }
      ]
    },
    {
      "cell_type": "code",
      "metadata": {
        "colab": {
          "base_uri": "https://localhost:8080/"
        },
        "id": "FdJbYJA4XA-u",
        "outputId": "78e34c35-625e-4ead-f0c9-6fbeb146a741"
      },
      "source": [
        "history.history #[loss of 1st epoch, loss of 2nd epoch]"
      ],
      "execution_count": 8,
      "outputs": [
        {
          "output_type": "execute_result",
          "data": {
            "text/plain": [
              "{'loss': [0.3198931813240051, 0.16673162579536438]}"
            ]
          },
          "metadata": {},
          "execution_count": 8
        }
      ]
    },
    {
      "cell_type": "code",
      "metadata": {
        "id": "jCvt3zfXXIPN"
      },
      "source": [
        "#Compile : define 'loss', metrics : check whether the model works well\n",
        "my_model.compile(loss=tf.keras.losses.SparseCategoricalCrossentropy(), metrics=[tf.keras.metrics.SparseCategoricalAccuracy()])"
      ],
      "execution_count": 10,
      "outputs": []
    },
    {
      "cell_type": "code",
      "metadata": {
        "colab": {
          "base_uri": "https://localhost:8080/"
        },
        "id": "358ZgjMYXcz0",
        "outputId": "0c0aa7c8-45bf-44a2-8862-dc29f8521da6"
      },
      "source": [
        "history = my_model.fit(x=x_train, y=y_train, epochs=2) #sparse_categorical_accuracy=정확도"
      ],
      "execution_count": 21,
      "outputs": [
        {
          "output_type": "stream",
          "name": "stdout",
          "text": [
            "Epoch 1/2\n",
            "1563/1563 [==============================] - 3s 2ms/step - loss: 0.0891 - sparse_categorical_accuracy: 0.9740\n",
            "Epoch 2/2\n",
            "1563/1563 [==============================] - 3s 2ms/step - loss: 0.0719 - sparse_categorical_accuracy: 0.9787\n"
          ]
        }
      ]
    },
    {
      "cell_type": "code",
      "metadata": {
        "colab": {
          "base_uri": "https://localhost:8080/"
        },
        "id": "XeNqoGiBXoc4",
        "outputId": "de7d5f21-aa5c-4d95-a63f-992d1572fd72"
      },
      "source": [
        "history.history"
      ],
      "execution_count": 13,
      "outputs": [
        {
          "output_type": "execute_result",
          "data": {
            "text/plain": [
              "{'loss': [0.12645575404167175, 0.10359884798526764],\n",
              " 'sparse_categorical_accuracy': [0.9630600214004517, 0.9697999954223633]}"
            ]
          },
          "metadata": {},
          "execution_count": 13
        }
      ]
    },
    {
      "cell_type": "markdown",
      "metadata": {
        "id": "PAra7BB4XvyB"
      },
      "source": [
        "Finally, we trained this model. So let me use it for prediction."
      ]
    },
    {
      "cell_type": "code",
      "metadata": {
        "colab": {
          "base_uri": "https://localhost:8080/"
        },
        "id": "JOCOOgGQZEZ8",
        "outputId": "4db85bc4-0d61-49aa-992e-03bb7c6779b4"
      },
      "source": [
        "len(x_test[0:3])"
      ],
      "execution_count": 18,
      "outputs": [
        {
          "output_type": "execute_result",
          "data": {
            "text/plain": [
              "3"
            ]
          },
          "metadata": {},
          "execution_count": 18
        }
      ]
    },
    {
      "cell_type": "code",
      "metadata": {
        "colab": {
          "base_uri": "https://localhost:8080/"
        },
        "id": "nOcZ-_xvX4to",
        "outputId": "3fce6995-5692-4527-f1bf-241a06db0438"
      },
      "source": [
        "my_model.predict(x_test[0:3]) #arrary 안의 각 list의 모든 요소 합은 1, 즉 각 요소들은 확률값임."
      ],
      "execution_count": 14,
      "outputs": [
        {
          "output_type": "execute_result",
          "data": {
            "text/plain": [
              "array([[1.6634134e-08, 2.8968861e-10, 3.6199501e-05, 1.8981493e-04,\n",
              "        7.5055556e-14, 3.4360749e-08, 1.4679889e-14, 9.9977201e-01,\n",
              "        8.4265579e-08, 1.7925972e-06],\n",
              "       [6.6405104e-11, 7.2818220e-06, 9.9998498e-01, 7.7651484e-06,\n",
              "        2.2995133e-18, 2.6202249e-09, 7.7256912e-09, 1.3336738e-15,\n",
              "        4.7641134e-08, 3.7473320e-17],\n",
              "       [1.3305272e-07, 9.9744934e-01, 5.9004867e-04, 7.7175279e-04,\n",
              "        1.7918464e-05, 9.4184754e-05, 2.5495046e-05, 4.4548383e-04,\n",
              "        6.0234196e-04, 3.2165765e-06]], dtype=float32)"
            ]
          },
          "metadata": {},
          "execution_count": 14
        }
      ]
    },
    {
      "cell_type": "code",
      "metadata": {
        "id": "ERCOEyjVUmmp"
      },
      "source": [
        "#optimizer: how to minimize the loss\n",
        "my_model.compile(\n",
        "    optimizer=tf.keras.optimizers.Adam(), \n",
        "    loss=tf.keras.losses.SparseCategoricalCrossentropy(), \n",
        "    metrics=[tf.keras.metrics.SparseCategoricalAccuracy()]\n",
        ")"
      ],
      "execution_count": 19,
      "outputs": []
    },
    {
      "cell_type": "code",
      "metadata": {
        "colab": {
          "base_uri": "https://localhost:8080/"
        },
        "id": "iRZAWSUlbCy3",
        "outputId": "784119b3-abe4-4dd3-9b5e-98103ec138b3"
      },
      "source": [
        "history = my_model.fit(x=x_train, y=y_train, epochs=2, batch_size=128) #batch_size = 본래의 데이터 개수/batch size : 데이터 개수를 원래 데이터 개수를 batch size만큼 나눈 값으로 생각하겠다는 것임\n",
        "# batch size: impact on the speed of training a model and accuracy of it."
      ],
      "execution_count": 23,
      "outputs": [
        {
          "output_type": "stream",
          "name": "stdout",
          "text": [
            "Epoch 1/2\n",
            "391/391 [==============================] - 1s 3ms/step - loss: 0.0466 - sparse_categorical_accuracy: 0.9866\n",
            "Epoch 2/2\n",
            "391/391 [==============================] - 1s 3ms/step - loss: 0.0424 - sparse_categorical_accuracy: 0.9883\n"
          ]
        }
      ]
    },
    {
      "cell_type": "code",
      "metadata": {
        "colab": {
          "base_uri": "https://localhost:8080/"
        },
        "id": "QXbKdsh1dHTQ",
        "outputId": "c9c28faa-f3c2-437a-cf1a-0ec75d882f59"
      },
      "source": [
        "#validation_data: Let the model work with data which did not used for train\n",
        "history = my_model.fit(x=x_train, y=y_train, epochs=2, batch_size=128, validation_data=(x_val, y_val)) "
      ],
      "execution_count": 24,
      "outputs": [
        {
          "output_type": "stream",
          "name": "stdout",
          "text": [
            "Epoch 1/2\n",
            "391/391 [==============================] - 1s 3ms/step - loss: 0.0393 - sparse_categorical_accuracy: 0.9893 - val_loss: 0.0859 - val_sparse_categorical_accuracy: 0.9744\n",
            "Epoch 2/2\n",
            "391/391 [==============================] - 1s 3ms/step - loss: 0.0373 - sparse_categorical_accuracy: 0.9902 - val_loss: 0.0843 - val_sparse_categorical_accuracy: 0.9758\n"
          ]
        }
      ]
    },
    {
      "cell_type": "markdown",
      "metadata": {
        "id": "SjhhveZodzox"
      },
      "source": [
        "We can check the overfitting problem by comparing accuarcy and loss for training data and those for validation's."
      ]
    },
    {
      "cell_type": "code",
      "metadata": {
        "colab": {
          "base_uri": "https://localhost:8080/"
        },
        "id": "SUWjXpmUdr2l",
        "outputId": "776ba876-397d-4723-868d-9ad798221ac4"
      },
      "source": [
        "history.history"
      ],
      "execution_count": 25,
      "outputs": [
        {
          "output_type": "execute_result",
          "data": {
            "text/plain": [
              "{'loss': [0.039312347769737244, 0.03731445223093033],\n",
              " 'sparse_categorical_accuracy': [0.9892600178718567, 0.9902200102806091],\n",
              " 'val_loss': [0.08589906990528107, 0.08434320986270905],\n",
              " 'val_sparse_categorical_accuracy': [0.974399983882904, 0.9757999777793884]}"
            ]
          },
          "metadata": {},
          "execution_count": 25
        }
      ]
    },
    {
      "cell_type": "code",
      "metadata": {
        "colab": {
          "base_uri": "https://localhost:8080/"
        },
        "id": "kReDBYjNeGwp",
        "outputId": "97beea5a-b07d-49dd-c595-003370d9a666"
      },
      "source": [
        "my_model.predict(x_test[0:3]) "
      ],
      "execution_count": 26,
      "outputs": [
        {
          "output_type": "execute_result",
          "data": {
            "text/plain": [
              "array([[3.0670309e-09, 8.1454345e-09, 6.0766157e-05, 1.0588967e-03,\n",
              "        2.5524391e-13, 3.2044838e-08, 4.4331136e-14, 9.9886996e-01,\n",
              "        6.0568891e-06, 4.3396294e-06],\n",
              "       [6.4040583e-12, 4.1200622e-04, 9.9958485e-01, 2.2561269e-06,\n",
              "        3.9032581e-18, 2.5185827e-09, 1.9539204e-09, 1.0121670e-14,\n",
              "        8.8916175e-07, 4.9995712e-16],\n",
              "       [1.4408501e-07, 9.9519122e-01, 1.2972970e-03, 2.0398042e-04,\n",
              "        2.9575658e-05, 6.3422078e-05, 7.2290401e-05, 1.1276730e-03,\n",
              "        2.0043331e-03, 1.0029262e-05]], dtype=float32)"
            ]
          },
          "metadata": {},
          "execution_count": 26
        }
      ]
    }
  ]
}