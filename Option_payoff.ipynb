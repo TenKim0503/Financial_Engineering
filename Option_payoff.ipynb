{
  "nbformat": 4,
  "nbformat_minor": 0,
  "metadata": {
    "colab": {
      "name": "Option payoff",
      "provenance": [],
      "include_colab_link": true
    },
    "kernelspec": {
      "name": "python3",
      "display_name": "Python 3"
    },
    "language_info": {
      "name": "python"
    }
  },
  "cells": [
    {
      "cell_type": "markdown",
      "metadata": {
        "id": "view-in-github",
        "colab_type": "text"
      },
      "source": [
        "<a href=\"https://colab.research.google.com/github/TenKim0503/Financial_Engineering/blob/main/Option_payoff.ipynb\" target=\"_parent\"><img src=\"https://colab.research.google.com/assets/colab-badge.svg\" alt=\"Open In Colab\"/></a>"
      ]
    },
    {
      "cell_type": "markdown",
      "metadata": {
        "id": "1c4nuTRfB-fu"
      },
      "source": [
        "Usual imports\n",
        "This is Review of the Finanical Engineering(1)"
      ]
    },
    {
      "cell_type": "code",
      "metadata": {
        "id": "ic-9EXKad1Bv"
      },
      "source": [
        "import numpy as np\n",
        "import matplotlib.pyplot as plt"
      ],
      "execution_count": null,
      "outputs": []
    },
    {
      "cell_type": "markdown",
      "metadata": {
        "id": "lIjkECXpCClI"
      },
      "source": [
        "My functions to define the payoffs at the maturity"
      ]
    },
    {
      "cell_type": "code",
      "metadata": {
        "id": "CvxnR4hu6q8E"
      },
      "source": [
        "def C(K):\n",
        "    S_T = np.linspace(0,200,num=201)\n",
        "    return np.maximum(S_T - K, 0)\n",
        "\n",
        "def P(K):\n",
        "    S_T = np.linspace(0,200,num=201)\n",
        "    return np.maximum(K - S_T, 0)"
      ],
      "execution_count": null,
      "outputs": []
    },
    {
      "cell_type": "markdown",
      "metadata": {
        "id": "ZO3quRA_CPv9"
      },
      "source": [
        "Call with strike 100. Long position. Note that the price of the option is not included."
      ]
    },
    {
      "cell_type": "code",
      "metadata": {
        "colab": {
          "base_uri": "https://localhost:8080/",
          "height": 265
        },
        "id": "i20SKM7C6sfr",
        "outputId": "e8851b1d-6a21-497d-f492-62a20936e841"
      },
      "source": [
        "plt.plot(C(100))\n",
        "plt.ylim(-50,50)\n",
        "plt.show()"
      ],
      "execution_count": null,
      "outputs": [
        {
          "output_type": "display_data",
          "data": {
            "image/png": "[encoded data removed]",
            "text/plain": [
              "<Figure size 432x288 with 1 Axes>"
            ]
          },
          "metadata": {
            "needs_background": "light"
          }
        }
      ]
    },
    {
      "cell_type": "markdown",
      "metadata": {
        "id": "Bb63qw9ZCdR_"
      },
      "source": [
        "Short position of put with 90."
      ]
    },
    {
      "cell_type": "code",
      "metadata": {
        "colab": {
          "base_uri": "https://localhost:8080/",
          "height": 265
        },
        "id": "Miffmi8q6341",
        "outputId": "2f4214d5-7e44-4473-917b-6c47f102a1a0"
      },
      "source": [
        "plt.plot(-P(90))\n",
        "plt.ylim(-50,50)\n",
        "plt.show()"
      ],
      "execution_count": null,
      "outputs": [
        {
          "output_type": "display_data",
          "data": {
            "image/png": "[encoded data removed]",
            "text/plain": [
              "<Figure size 432x288 with 1 Axes>"
            ]
          },
          "metadata": {
            "needs_background": "light"
          }
        }
      ]
    },
    {
      "cell_type": "markdown",
      "metadata": {
        "id": "PlBRb7yhCiUd"
      },
      "source": [
        "Bull call spread. Note that the payoff of this position is always positive, which means you have to pay at the beginning to have payoff at the maturity."
      ]
    },
    {
      "cell_type": "code",
      "metadata": {
        "colab": {
          "base_uri": "https://localhost:8080/",
          "height": 265
        },
        "id": "kGu-9cWj7UpB",
        "outputId": "96f583c7-aaab-4ce9-89ae-1418c4b61762"
      },
      "source": [
        "plt.plot(+C(110)-C(120))\n",
        "plt.ylim(-50,50)\n",
        "plt.show()"
      ],
      "execution_count": null,
      "outputs": [
        {
          "output_type": "display_data",
          "data": {
            "image/png": "[encoded data removed]",
            "text/plain": [
              "<Figure size 432x288 with 1 Axes>"
            ]
          },
          "metadata": {
            "needs_background": "light"
          }
        }
      ]
    },
    {
      "cell_type": "markdown",
      "metadata": {
        "id": "a0Pyn4nmDJUW"
      },
      "source": [
        "Condor with all calls"
      ]
    },
    {
      "cell_type": "code",
      "metadata": {
        "colab": {
          "base_uri": "https://localhost:8080/",
          "height": 265
        },
        "id": "-WcQqpyj8miK",
        "outputId": "ecf3f4e4-7a57-4db9-bd3a-b670036a94cb"
      },
      "source": [
        "plt.plot(+C(80)-C(90)-C(110)+C(120))\n",
        "plt.ylim(-50,50)\n",
        "plt.show()"
      ],
      "execution_count": null,
      "outputs": [
        {
          "output_type": "display_data",
          "data": {
            "image/png": "[encoded data removed]",
            "text/plain": [
              "<Figure size 432x288 with 1 Axes>"
            ]
          },
          "metadata": {
            "needs_background": "light"
          }
        }
      ]
    },
    {
      "cell_type": "markdown",
      "metadata": {
        "id": "C5QJAbPODSTL"
      },
      "source": [
        "Condor with all puts"
      ]
    },
    {
      "cell_type": "code",
      "metadata": {
        "colab": {
          "base_uri": "https://localhost:8080/",
          "height": 265
        },
        "id": "T04Q_bxq83ip",
        "outputId": "bbcd820c-6c87-4181-cd99-808eb26248a0"
      },
      "source": [
        "plt.plot(+P(80)-P(90)-P(110)+P(120))\n",
        "plt.ylim(-50,50)\n",
        "plt.show()"
      ],
      "execution_count": null,
      "outputs": [
        {
          "output_type": "display_data",
          "data": {
            "image/png": "[encoded data removed]",
            "text/plain": [
              "<Figure size 432x288 with 1 Axes>"
            ]
          },
          "metadata": {
            "needs_background": "light"
          }
        }
      ]
    },
    {
      "cell_type": "markdown",
      "metadata": {
        "id": "xCqtULRvDyyO"
      },
      "source": [
        "Another condor, it shoud be expensive, because payoff is positive."
      ]
    },
    {
      "cell_type": "code",
      "metadata": {
        "colab": {
          "base_uri": "https://localhost:8080/",
          "height": 265
        },
        "id": "coA8D4iW8-xH",
        "outputId": "2d30e7a1-641f-44f3-8f54-d487d7ee0b70"
      },
      "source": [
        "plt.plot(+C(80)-C(90)-P(110)+P(120))\n",
        "plt.ylim(-50,50)\n",
        "plt.show()"
      ],
      "execution_count": null,
      "outputs": [
        {
          "output_type": "display_data",
          "data": {
            "image/png": "[encoded data removed]",
            "text/plain": [
              "<Figure size 432x288 with 1 Axes>"
            ]
          },
          "metadata": {
            "needs_background": "light"
          }
        }
      ]
    },
    {
      "cell_type": "markdown",
      "metadata": {
        "id": "GwW5fboBEIQ3"
      },
      "source": [
        "Condor in the investopia. If you are willing to take this payoff, you get paid at the first, because at the end you are going to lose your money if the underlying moves more than you expected. This is not the only solution, the above condors are all ok."
      ]
    },
    {
      "cell_type": "code",
      "metadata": {
        "colab": {
          "base_uri": "https://localhost:8080/",
          "height": 265
        },
        "id": "XgPrV2b391hc",
        "outputId": "35c2a7b8-b71e-4f33-d369-55c1563ed55d"
      },
      "source": [
        "plt.plot(+P(80)-P(90)-C(110)+C(120))\n",
        "plt.ylim(-50,50)\n",
        "plt.show()"
      ],
      "execution_count": null,
      "outputs": [
        {
          "output_type": "display_data",
          "data": {
            "image/png": "[encoded data removed]",
            "text/plain": [
              "<Figure size 432x288 with 1 Axes>"
            ]
          },
          "metadata": {
            "needs_background": "light"
          }
        }
      ]
    },
    {
      "cell_type": "markdown",
      "metadata": {
        "id": "DjAiq0PDDrkA"
      },
      "source": [
        "New strategy???"
      ]
    },
    {
      "cell_type": "code",
      "metadata": {
        "colab": {
          "base_uri": "https://localhost:8080/",
          "height": 265
        },
        "id": "3aF6c2yb-Iid",
        "outputId": "10d21fd5-5224-43d9-cc58-f8b37d3403d4"
      },
      "source": [
        "plt.plot(C(80)-C(90)+C(110)-C(120))\n",
        "plt.ylim(-50,50)\n",
        "plt.show()"
      ],
      "execution_count": null,
      "outputs": [
        {
          "output_type": "display_data",
          "data": {
            "image/png": "[encoded data removed]",
            "text/plain": [
              "<Figure size 432x288 with 1 Axes>"
            ]
          },
          "metadata": {
            "needs_background": "light"
          }
        }
      ]
    },
    {
      "cell_type": "code",
      "metadata": {
        "id": "5dPe7HnQj8lg"
      },
      "source": [
        ""
      ],
      "execution_count": null,
      "outputs": []
    }
  ]
}